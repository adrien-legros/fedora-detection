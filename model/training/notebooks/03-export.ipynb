{
 "cells": [
  {
   "cell_type": "markdown",
   "id": "e260f146-9844-4854-a29c-7ef08829e4e7",
   "metadata": {},
   "source": [
    "# Export YoloV5 model to ONNX format"
   ]
  },
  {
   "cell_type": "markdown",
   "id": "7b3c563e-535f-431f-b49c-b2008afacf6f",
   "metadata": {},
   "source": [
    "## Install requirements"
   ]
  },
  {
   "cell_type": "code",
   "execution_count": 1,
   "id": "f20ffb88-1685-4448-9af4-a981d83e94a8",
   "metadata": {},
   "outputs": [
    {
     "name": "stdout",
     "output_type": "stream",
     "text": [
      "\n",
      "\u001b[1m[\u001b[0m\u001b[34;49mnotice\u001b[0m\u001b[1;39;49m]\u001b[0m\u001b[39;49m A new release of pip is available: \u001b[0m\u001b[31;49m23.0\u001b[0m\u001b[39;49m -> \u001b[0m\u001b[32;49m23.0.1\u001b[0m\n",
      "\u001b[1m[\u001b[0m\u001b[34;49mnotice\u001b[0m\u001b[1;39;49m]\u001b[0m\u001b[39;49m To update, run: \u001b[0m\u001b[32;49mpip install --upgrade pip\u001b[0m\n"
     ]
    }
   ],
   "source": [
    "!pip install -qr requirements.txt"
   ]
  },
  {
   "cell_type": "markdown",
   "id": "f8df2bcd-d5e2-4fa3-8b68-bf8270d021d3",
   "metadata": {},
   "source": [
    "## Download model\n",
    "You can download the model of your choice (different sizes and characteristics) from here: https://github.com/ultralytics/yolov5#pretrained-checkpoints"
   ]
  },
  {
   "cell_type": "markdown",
   "id": "24297e76-2a68-4885-a070-1880eac3f902",
   "metadata": {},
   "source": [
    "## Export the model to ONNX\n",
    "- Eventually modify the image size if you selected a model with the \"6\" suffix, as image size is 1280 (and not 640)\n",
    "- Stay at opset 16 for the moment for OpenVino model server compatibility"
   ]
  },
  {
   "cell_type": "code",
   "execution_count": 3,
   "id": "96665823-af2c-43ed-a828-df19dcdf612f",
   "metadata": {},
   "outputs": [
    {
     "name": "stdout",
     "output_type": "stream",
     "text": [
      "\u001b[34m\u001b[1mexport: \u001b[0mdata=yolov5/data/coco128.yaml, weights=['yolov5/runs/train/exp13/weights/best.pt'], imgsz=[640], batch_size=1, device=cpu, half=False, inplace=False, keras=False, optimize=False, int8=False, dynamic=False, simplify=False, opset=16, verbose=False, workspace=4, nms=False, agnostic_nms=False, topk_per_class=100, topk_all=100, iou_thres=0.45, conf_thres=0.25, include=['onnx']\n",
      "YOLOv5 🚀 v7.0-240-g84ec8b5 Python-3.9.16 torch-1.13.1+cu117 CPU\n",
      "\n",
      "Fusing layers... \n",
      "Model summary: 157 layers, 7012822 parameters, 0 gradients, 15.8 GFLOPs\n",
      "\n",
      "\u001b[34m\u001b[1mPyTorch:\u001b[0m starting from yolov5/runs/train/exp13/weights/best.pt with output shape (1, 25200, 6) (38.2 MB)\n",
      "\u001b[31m\u001b[1mrequirements:\u001b[0m Ultralytics requirement ['onnx>=1.12.0'] not found, attempting AutoUpdate...\n",
      "\n",
      "\u001b[1m[\u001b[0m\u001b[34;49mnotice\u001b[0m\u001b[1;39;49m]\u001b[0m\u001b[39;49m A new release of pip available: \u001b[0m\u001b[31;49m22.2.2\u001b[0m\u001b[39;49m -> \u001b[0m\u001b[32;49m23.3.1\u001b[0m\n",
      "\u001b[1m[\u001b[0m\u001b[34;49mnotice\u001b[0m\u001b[1;39;49m]\u001b[0m\u001b[39;49m To update, run: \u001b[0m\u001b[32;49mpip install --upgrade pip\u001b[0m\n",
      "Collecting onnx>=1.12.0\n",
      "  Downloading onnx-1.15.0-cp39-cp39-manylinux_2_17_x86_64.manylinux2014_x86_64.whl (15.7 MB)\n",
      "     ━━━━━━━━━━━━━━━━━━━━━━━━━━━━━━━━━━━━━━━━ 15.7/15.7 MB 91.7 MB/s eta 0:00:00\n",
      "Requirement already satisfied: protobuf>=3.20.2 in /opt/app-root/lib/python3.9/site-packages (from onnx>=1.12.0) (3.20.3)\n",
      "Requirement already satisfied: numpy in /opt/app-root/lib/python3.9/site-packages (from onnx>=1.12.0) (1.24.4)\n",
      "Installing collected packages: onnx\n",
      "Successfully installed onnx-1.15.0\n",
      "\n",
      "\u001b[31m\u001b[1mrequirements:\u001b[0m AutoUpdate success ✅ 10.3s, installed 1 package: ['onnx>=1.12.0']\n",
      "\u001b[31m\u001b[1mrequirements:\u001b[0m ⚠️ \u001b[1mRestart runtime or rerun command for updates to take effect\u001b[0m\n",
      "\n",
      "\n",
      "\u001b[34m\u001b[1mONNX:\u001b[0m starting export with onnx 1.15.0...\n",
      "\u001b[34m\u001b[1mONNX:\u001b[0m export success ✅ 13.0s, saved as yolov5/runs/train/exp13/weights/best.onnx (27.2 MB)\n",
      "\n",
      "Export complete (14.9s)\n",
      "Results saved to \u001b[1m/opt/app-root/src/yolov5-transfer-learning/yolov5/runs/train/exp13/weights\u001b[0m\n",
      "Detect:          python detect.py --weights yolov5/runs/train/exp13/weights/best.onnx \n",
      "Validate:        python val.py --weights yolov5/runs/train/exp13/weights/best.onnx \n",
      "PyTorch Hub:     model = torch.hub.load('ultralytics/yolov5', 'custom', 'yolov5/runs/train/exp13/weights/best.onnx')  \n",
      "Visualize:       https://netron.app\n"
     ]
    }
   ],
   "source": [
    "!python yolov5/export.py --weights yolov5/runs/train/exp13/weights/best.pt --include onnx --imgsz 640 --opset 16"
   ]
  },
  {
   "cell_type": "code",
   "execution_count": 13,
   "id": "b2c7b669-1ceb-4a70-a171-7f0a4f668a15",
   "metadata": {},
   "outputs": [],
   "source": [
    "import boto3\n",
    "from boto3 import session\n",
    "import os\n",
    "\n",
    "def init_s3_connection():\n",
    "    global bucket_name\n",
    "    key_id = os.environ.get(\"AWS_ACCESS_KEY_ID\", \"minio\")\n",
    "    secret_key = os.environ.get(\"AWS_SECRET_ACCESS_KEY\", \"minio123\")\n",
    "    bucket_name = os.environ.get(\"AWS_S3_BUCKET\", \"fedora\")\n",
    "    endpoint = os.environ.get(\"AWS_S3_ENDPOINT\", \"http://minio-pipelines-definition.fedora-detection:9000\")\n",
    "    s3_client = boto3.client(\"s3\", aws_access_key_id=key_id, aws_secret_access_key=secret_key, endpoint_url=endpoint)\n",
    "    return s3_client"
   ]
  },
  {
   "cell_type": "code",
   "execution_count": 14,
   "id": "513df060-d0e3-4379-95de-ace714c114c9",
   "metadata": {},
   "outputs": [],
   "source": [
    "s3_con = init_s3_connection()"
   ]
  },
  {
   "cell_type": "code",
   "execution_count": 15,
   "id": "37e9974e-ef20-41aa-b697-6c1d2f3761fe",
   "metadata": {},
   "outputs": [],
   "source": [
    "obj = \"yolov5/runs/train/exp13/weights/best.onnx\"\n",
    "s3_path = \"models/fedora.onnx\"\n",
    "s3_con.upload_file(obj, bucket_name, s3_path)"
   ]
  },
  {
   "cell_type": "markdown",
   "id": "5faf82da-1a30-4bb6-bdbc-ee641ebbe24b",
   "metadata": {},
   "source": [
    "## Save your model file to your storage location\n",
    "Your ONNX model will have the same name as the one you downloaded, but with an `.onnx` extension."
   ]
  }
 ],
 "metadata": {
  "kernelspec": {
   "display_name": "Python 3.9",
   "language": "python",
   "name": "python3"
  },
  "language_info": {
   "codemirror_mode": {
    "name": "ipython",
    "version": 3
   },
   "file_extension": ".py",
   "mimetype": "text/x-python",
   "name": "python",
   "nbconvert_exporter": "python",
   "pygments_lexer": "ipython3",
   "version": "3.9.16"
  }
 },
 "nbformat": 4,
 "nbformat_minor": 5
}
